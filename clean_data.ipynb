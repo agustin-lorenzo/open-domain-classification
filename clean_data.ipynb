{
 "cells": [
  {
   "cell_type": "code",
   "execution_count": 17,
   "id": "2c645c4b-1d43-4e8f-ae84-abe210dcff6a",
   "metadata": {
    "tags": []
   },
   "outputs": [],
   "source": [
    "import pandas as pd\n",
    "\n",
    "# Load the CSV file into a DataFrame\n",
    "df = pd.read_csv('synth_data.csv')\n",
    "\n",
    "# Define a function to check if any label title is present within the description\n",
    "def contains_label_title(entry, labels):\n",
    "    return (\"('\" in entry) or (\"(@\" in entry)\n",
    "\n",
    "# Apply the function to each row and filter out rows containing label titles in the description\n",
    "df = df[~df.apply(lambda row: contains_label_title(row['entry'], row['labels']), axis=1)]\n",
    "\n",
    "# Save the cleaned DataFrame to a new CSV file\n",
    "df.to_csv('cleaned_synth_data.csv', index=False)\n",
    "\n",
    "print(\"done\")\n"
   ]
  },
  {
   "cell_type": "code",
   "execution_count": null,
   "id": "d94746a3-9899-4256-afb2-c8646f414d10",
   "metadata": {},
   "outputs": [],
   "source": []
  }
 ],
 "metadata": {
  "kernelspec": {
   "display_name": "Python 3 (ipykernel)",
   "language": "python",
   "name": "python3"
  },
  "language_info": {
   "codemirror_mode": {
    "name": "ipython",
    "version": 3
   },
   "file_extension": ".py",
   "mimetype": "text/x-python",
   "name": "python",
   "nbconvert_exporter": "python",
   "pygments_lexer": "ipython3",
   "version": "3.11.4"
  }
 },
 "nbformat": 4,
 "nbformat_minor": 5
}
